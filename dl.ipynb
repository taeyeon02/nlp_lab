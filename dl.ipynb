{
  "cells": [
    {
      "cell_type": "markdown",
      "metadata": {
        "id": "view-in-github",
        "colab_type": "text"
      },
      "source": [
        "<a href=\"https://colab.research.google.com/github/taeyeon02/nlp_lab/blob/main/dl.ipynb\" target=\"_parent\"><img src=\"https://colab.research.google.com/assets/colab-badge.svg\" alt=\"Open In Colab\"/></a>"
      ]
    },
    {
      "cell_type": "markdown",
      "id": "47bb3987",
      "metadata": {
        "id": "47bb3987"
      },
      "source": [
        "# 딥러닝 개요"
      ]
    },
    {
      "cell_type": "markdown",
      "id": "5ba54676",
      "metadata": {
        "id": "5ba54676"
      },
      "source": [
        "### 단층 퍼셉트론"
      ]
    },
    {
      "cell_type": "code",
      "execution_count": null,
      "id": "be098ef6",
      "metadata": {
        "id": "be098ef6"
      },
      "outputs": [],
      "source": [
        "def AND_gate(x1, x2):\n",
        "    w1 = 0.5\n",
        "    w2 = 0.5\n",
        "    b = -0.7\n",
        "    result = x1*w1 + x2*w2 + b\n",
        "    if result <= 0:\n",
        "        return 0\n",
        "    else:\n",
        "        return 1"
      ]
    },
    {
      "cell_type": "code",
      "execution_count": null,
      "id": "fcbe3bd7",
      "metadata": {
        "id": "fcbe3bd7"
      },
      "outputs": [],
      "source": [
        "AND_gate(0, 0), AND_gate(0, 1), AND_gate(1, 0), AND_gate(1, 1)"
      ]
    },
    {
      "cell_type": "code",
      "execution_count": null,
      "id": "dc83ecef",
      "metadata": {
        "id": "dc83ecef"
      },
      "outputs": [],
      "source": [
        "def NAND_gate(x1, x2):\n",
        "    w1 = -0.5\n",
        "    w2 = -0.5\n",
        "    b = 0.7\n",
        "    result = x1*w1 + x2*w2 + b\n",
        "    if result <= 0:\n",
        "        return 0\n",
        "    else:\n",
        "        return 1"
      ]
    },
    {
      "cell_type": "code",
      "execution_count": null,
      "id": "1989a74f",
      "metadata": {
        "id": "1989a74f"
      },
      "outputs": [],
      "source": [
        "NAND_gate(0, 0), NAND_gate(0, 1), NAND_gate(1, 0), NAND_gate(1, 1)"
      ]
    },
    {
      "cell_type": "code",
      "execution_count": null,
      "id": "b3b64344",
      "metadata": {
        "id": "b3b64344"
      },
      "outputs": [],
      "source": [
        "def OR_gate(x1, x2):\n",
        "    w1 = 0.6\n",
        "    w2 = 0.6\n",
        "    b = -0.5\n",
        "    result = x1*w1 + x2*w2 + b\n",
        "    if result <= 0:\n",
        "        return 0\n",
        "    else:\n",
        "        return 1"
      ]
    },
    {
      "cell_type": "code",
      "execution_count": null,
      "id": "56965704",
      "metadata": {
        "id": "56965704"
      },
      "outputs": [],
      "source": [
        "OR_gate(0, 0), OR_gate(0, 1), OR_gate(1, 0), OR_gate(1, 1)"
      ]
    },
    {
      "cell_type": "markdown",
      "id": "fc65ddc0",
      "metadata": {
        "id": "fc65ddc0"
      },
      "source": [
        "### 시그모이드 함수 (Sigmoid function)"
      ]
    },
    {
      "cell_type": "code",
      "execution_count": null,
      "id": "b7971c8f",
      "metadata": {
        "id": "b7971c8f"
      },
      "outputs": [],
      "source": [
        "# 시그모이드 함수 그래프를 그리는 코드\n",
        "def sigmoid(x):\n",
        "    return 1/(1+np.exp(-x))\n",
        "x = np.arange(-5.0, 5.0, 0.1)\n",
        "y = sigmoid(x)\n",
        "\n",
        "plt.plot(x, y)\n",
        "plt.plot([0,0],[1.0,0.0], ':') # 가운데 점선 추가\n",
        "plt.title('Sigmoid Function')\n",
        "plt.show()"
      ]
    },
    {
      "cell_type": "markdown",
      "id": "7569e924",
      "metadata": {
        "id": "7569e924"
      },
      "source": [
        "### 하이퍼볼릭탄젠트 함수 (Hyperbolic tangent function)"
      ]
    },
    {
      "cell_type": "code",
      "execution_count": null,
      "id": "06c3f3eb",
      "metadata": {
        "id": "06c3f3eb"
      },
      "outputs": [],
      "source": [
        "x = np.arange(-5.0, 5.0, 0.1) # -5.0부터 5.0까지 0.1 간격 생성\n",
        "y = np.tanh(x)\n",
        "\n",
        "plt.plot(x, y)\n",
        "plt.plot([0,0],[1.0,-1.0], ':')\n",
        "plt.axhline(y=0, color='orange', linestyle='--')\n",
        "plt.title('Tanh Function')\n",
        "plt.show()"
      ]
    },
    {
      "cell_type": "markdown",
      "id": "1437909a",
      "metadata": {
        "id": "1437909a"
      },
      "source": [
        "### 렐루 함수 (ReLU)"
      ]
    },
    {
      "cell_type": "code",
      "execution_count": null,
      "id": "d7027ae3",
      "metadata": {
        "id": "d7027ae3"
      },
      "outputs": [],
      "source": [
        "def relu(x):\n",
        "    return np.maximum(0, x)\n",
        "\n",
        "x = np.arange(-5.0, 5.0, 0.1)\n",
        "y = relu(x)\n",
        "\n",
        "plt.plot(x, y)\n",
        "plt.plot([0,0],[5.0,0.0], ':')\n",
        "plt.title('Relu Function')\n",
        "plt.show()"
      ]
    },
    {
      "cell_type": "markdown",
      "id": "1a268fc2",
      "metadata": {
        "id": "1a268fc2"
      },
      "source": [
        "### 리키 렐루 (Leaky ReLU)"
      ]
    },
    {
      "cell_type": "code",
      "execution_count": null,
      "id": "da4759cd",
      "metadata": {
        "id": "da4759cd"
      },
      "outputs": [],
      "source": [
        "a = 0.1\n",
        "\n",
        "def leaky_relu(x):\n",
        "    return np.maximum(a*x, x)\n",
        "\n",
        "x = np.arange(-5.0, 5.0, 0.1)\n",
        "y = leaky_relu(x)\n",
        "\n",
        "plt.plot(x, y)\n",
        "plt.plot([0,0],[5.0,0.0], ':')\n",
        "plt.title('Leaky ReLU Function')\n",
        "plt.show()"
      ]
    },
    {
      "cell_type": "markdown",
      "id": "d2ee0d49",
      "metadata": {
        "id": "d2ee0d49"
      },
      "source": [
        "### 소프트맥스 함수 (Softmax function)"
      ]
    },
    {
      "cell_type": "code",
      "execution_count": null,
      "id": "d8ba95d9",
      "metadata": {
        "id": "d8ba95d9"
      },
      "outputs": [],
      "source": [
        "x = np.arange(-5.0, 5.0, 0.1) # -5.0부터 5.0까지 0.1 간격 생성\n",
        "y = np.exp(x) / np.sum(np.exp(x))\n",
        "\n",
        "plt.plot(x, y)\n",
        "plt.title('Softmax Function')\n",
        "plt.show()"
      ]
    },
    {
      "cell_type": "markdown",
      "id": "06e0184e",
      "metadata": {
        "id": "06e0184e"
      },
      "source": [
        "### 행렬곱으로 순전파 이해하기"
      ]
    },
    {
      "cell_type": "code",
      "execution_count": null,
      "id": "8a0e11a8",
      "metadata": {
        "id": "8a0e11a8"
      },
      "outputs": [],
      "source": [
        "from tensorflow.keras.models import Sequential\n",
        "from tensorflow.keras.layers import Dense\n",
        "\n",
        "model = Sequential()\n",
        "\n",
        "# 3개의 입력과 2개의 출력\n",
        "model.add(Dense(2, input_dim=3, activation='softmax'))"
      ]
    },
    {
      "cell_type": "code",
      "execution_count": null,
      "id": "62dd2b42",
      "metadata": {
        "id": "62dd2b42"
      },
      "outputs": [],
      "source": [
        "model.summary()"
      ]
    },
    {
      "cell_type": "markdown",
      "id": "1a0e8dc5",
      "metadata": {
        "id": "1a0e8dc5"
      },
      "source": [
        "### 행렬곱으로 다층 퍼셉트론의 순전파 이해하기"
      ]
    },
    {
      "cell_type": "code",
      "execution_count": null,
      "id": "ff14bb2b",
      "metadata": {
        "id": "ff14bb2b"
      },
      "outputs": [],
      "source": [
        "from tensorflow.keras.models import Sequential\n",
        "from tensorflow.keras.layers import Dense\n",
        "\n",
        "model = Sequential()\n",
        "\n",
        "# 4개의 입력과 8개의 출력\n",
        "model.add(Dense(8, input_dim=4, activation='relu'))\n",
        "\n",
        "# 이어서 8개의 출력\n",
        "model.add(Dense(8, activation='relu'))\n",
        "\n",
        "# 이어서 3개의 출력\n",
        "model.add(Dense(3, activation='softmax'))"
      ]
    },
    {
      "cell_type": "code",
      "execution_count": null,
      "id": "a2552dc8",
      "metadata": {
        "id": "a2552dc8"
      },
      "outputs": [],
      "source": [
        "model.summary()"
      ]
    },
    {
      "cell_type": "markdown",
      "id": "626481b4",
      "metadata": {
        "id": "626481b4"
      },
      "source": [
        "### 손실함수"
      ]
    },
    {
      "cell_type": "markdown",
      "id": "c881963c",
      "metadata": {
        "id": "c881963c"
      },
      "source": [
        "### MSE (Mean Squared Loss)"
      ]
    },
    {
      "cell_type": "code",
      "execution_count": null,
      "id": "74787801",
      "metadata": {
        "id": "74787801"
      },
      "outputs": [],
      "source": [
        "import tensorflow as tf\n",
        "\n",
        "# 둘 다 사용 가능\n",
        "model.compile(optimizer='adam', loss='mse', metrics=['mse'])\n",
        "model.compile(optimizer='adam', loss=tf.keras.losses.MeanSquaredError(), metrics=['mse'])"
      ]
    },
    {
      "cell_type": "markdown",
      "id": "78a4992c",
      "metadata": {
        "id": "78a4992c"
      },
      "source": [
        "### 이진 크로스 엔트로피 (Binary Cross-Entrop)"
      ]
    },
    {
      "cell_type": "code",
      "execution_count": null,
      "id": "41f37587",
      "metadata": {
        "id": "41f37587"
      },
      "outputs": [],
      "source": [
        "# 둘 다 사용 가능\n",
        "model.compile(loss='binary_crossentropy', optimizer='adam', metrics=['acc'])\n",
        "model.compile(loss=tf.keras.losses.BinaryCrossentropy(), optimizer='adam', metrics=['acc'])"
      ]
    },
    {
      "cell_type": "markdown",
      "id": "df924d36",
      "metadata": {
        "id": "df924d36"
      },
      "source": [
        "### 카테고리칼 크로스 엔트로피 (Categorical Cross-Entropy)"
      ]
    },
    {
      "cell_type": "code",
      "execution_count": null,
      "id": "248bd650",
      "metadata": {
        "id": "248bd650"
      },
      "outputs": [],
      "source": [
        "# 둘 다 사용 가능\n",
        "model.compile(loss='categorical_crossentropy', optimizer='adam', metrics=['acc'])\n",
        "model.compile(loss=tf.keras.losses.CategoricalCrossentropy(), optimizer='adam', metrics=['acc'])\n",
        "\n",
        "# 레이블에 대해서 원-핫 인코딩 과정을 생략하고, 정수값을 가진 레이블에 대해서 다중 클래스 분류를 수행하고 싶다면 다음과 같이 사용\n",
        "model.compile(loss='sparse_categorical_crossentropy', optimizer='adam', metrics=['acc'])\n",
        "model.compile(loss=tf.keras.losses.SparseCategoricalCrossentropy(), optimizer='adam', metrics=['acc'])"
      ]
    },
    {
      "cell_type": "markdown",
      "id": "fefd26c9",
      "metadata": {
        "id": "fefd26c9"
      },
      "source": [
        "### 배치 크기(Batch Size)에 따른 경사 하강법"
      ]
    },
    {
      "cell_type": "code",
      "execution_count": null,
      "id": "10f1e812",
      "metadata": {
        "id": "10f1e812"
      },
      "outputs": [],
      "source": [
        "# 배치 경사 하강법(Batch Gradient Descent)\n",
        "model.fit(X_train, y_train, batch_size=len(X_train))\n",
        "\n",
        "# 배치 크기가 1인 확률적 경사 하강법(Stochastic Gradient Descent, SGD)\n",
        "model.fit(X_train, y_train, batch_size=1)\n",
        "\n",
        "# 미니 배치 경사 하강법(Mini-Batch Gradient Descent)\n",
        "model.fit(X_train, y_train, batch_size=128)"
      ]
    },
    {
      "cell_type": "markdown",
      "id": "b485ee3a",
      "metadata": {
        "id": "b485ee3a"
      },
      "source": [
        "### 옵티마이저(Optimizer)"
      ]
    },
    {
      "cell_type": "code",
      "execution_count": null,
      "id": "a7428dbf",
      "metadata": {
        "id": "a7428dbf"
      },
      "outputs": [],
      "source": [
        "# 모멘텀(Momentum)\n",
        "# 모멘텀은 경사 하강법에서 계산된 접선의 기울기에 한 시점 전의 접선의 기울기값을 일정한 비율만큼 반영\n",
        "tf.keras.optimizers.SGD(lr=0.01, momentum=0.9)\n",
        "\n",
        "# 아다그라드(Adagrad)\n",
        "# 아다그라드는 각 매개변수에 서로 다른 학습률을 적용\n",
        "tf.keras.optimizers.Adagrad(lr=0.01, epsilon=1e-6)\n",
        "\n",
        "# 알엠에스프롭(RMSprop)\n",
        "# 아다그라드는 학습을 계속 진행한 경우에는, 나중에 가서는 학습률이 지나치게 떨어진다는 단점이 있는데 이를 다른 수식으로 대체하여 이러한 단점을 개선\n",
        "tf.keras.optimizers.RMSprop(lr=0.001, rho=0.9, epsilon=1e-06)\n",
        "\n",
        "# 아담(Adam)\n",
        "# 아담은 알엠에스프롭과 모멘텀 두 가지를 합친 듯한 방법으로, 방향과 학습률 두 가지를 모두 잡기 위한 방법\n",
        "tf.keras.optimizers.Adam(lr=0.001, beta_1=0.9, beta_2=0.999, epsilon=None, decay=0.0, amsgrad=False)"
      ]
    },
    {
      "cell_type": "markdown",
      "id": "9ac71a15",
      "metadata": {
        "id": "9ac71a15"
      },
      "source": [
        "### 사용 방법"
      ]
    },
    {
      "cell_type": "code",
      "execution_count": null,
      "id": "19f51d99",
      "metadata": {
        "id": "19f51d99"
      },
      "outputs": [],
      "source": [
        "# 둘 다 가능\n",
        "\n",
        "adam = tf.keras.optimizers.Adam(lr=0.001, beta_1=0.9, beta_2=0.999, epsilon=None, decay=0.0, amsgrad=False)\n",
        "model.compile(loss='categorical_crossentropy', optimizer=adam, metrics=['acc'])\n",
        "\n",
        "model.compile(loss='categorical_crossentropy', optimizer='adam', metrics=['acc'])"
      ]
    }
  ],
  "metadata": {
    "kernelspec": {
      "display_name": "Python 3 (ipykernel)",
      "language": "python",
      "name": "python3"
    },
    "language_info": {
      "codemirror_mode": {
        "name": "ipython",
        "version": 3
      },
      "file_extension": ".py",
      "mimetype": "text/x-python",
      "name": "python",
      "nbconvert_exporter": "python",
      "pygments_lexer": "ipython3",
      "version": "3.9.16"
    },
    "colab": {
      "provenance": [],
      "include_colab_link": true
    }
  },
  "nbformat": 4,
  "nbformat_minor": 5
}