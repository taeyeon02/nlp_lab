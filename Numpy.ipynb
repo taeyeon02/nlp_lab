{
  "nbformat": 4,
  "nbformat_minor": 0,
  "metadata": {
    "colab": {
      "provenance": [],
      "authorship_tag": "ABX9TyN/od+fosHztYT0uQ8CR7sG",
      "include_colab_link": true
    },
    "kernelspec": {
      "name": "python3",
      "display_name": "Python 3"
    },
    "language_info": {
      "name": "python"
    }
  },
  "cells": [
    {
      "cell_type": "markdown",
      "metadata": {
        "id": "view-in-github",
        "colab_type": "text"
      },
      "source": [
        "<a href=\"https://colab.research.google.com/github/taeyeon02/nlp_lab/blob/main/Numpy.ipynb\" target=\"_parent\"><img src=\"https://colab.research.google.com/assets/colab-badge.svg\" alt=\"Open In Colab\"/></a>"
      ]
    },
    {
      "cell_type": "code",
      "execution_count": null,
      "metadata": {
        "id": "qkeB75tVFSG2"
      },
      "outputs": [],
      "source": [
        "import numpy as np"
      ]
    },
    {
      "cell_type": "code",
      "source": [
        "# 1차원 배열\n",
        "vec = np.array([1, 2, 3, 4, 5])\n",
        "print(vec)"
      ],
      "metadata": {
        "colab": {
          "base_uri": "https://localhost:8080/"
        },
        "id": "Fl9aa5suFWfs",
        "outputId": "7458efb3-407e-4e92-e92c-52e195fe9ec6"
      },
      "execution_count": null,
      "outputs": [
        {
          "output_type": "stream",
          "name": "stdout",
          "text": [
            "[1 2 3 4 5]\n"
          ]
        }
      ]
    },
    {
      "cell_type": "code",
      "source": [
        "# 2차원 배열\n",
        "mat = np.array([[10, 20, 30], [ 60, 70, 80]]) \n",
        "print(mat)"
      ],
      "metadata": {
        "colab": {
          "base_uri": "https://localhost:8080/"
        },
        "id": "5QFcGceHFmMP",
        "outputId": "2261d1a6-6d29-4310-91c3-104ae5da7a3e"
      },
      "execution_count": null,
      "outputs": [
        {
          "output_type": "stream",
          "name": "stdout",
          "text": [
            "[[10 20 30]\n",
            " [60 70 80]]\n"
          ]
        }
      ]
    },
    {
      "cell_type": "code",
      "source": [
        "print('vec의 타입 :',type(vec))\n",
        "print('mat의 타입 :',type(mat))"
      ],
      "metadata": {
        "colab": {
          "base_uri": "https://localhost:8080/"
        },
        "id": "Ff3L7VMfFrP9",
        "outputId": "ce21e8cd-25ef-41f9-e3bc-0d1698357588"
      },
      "execution_count": null,
      "outputs": [
        {
          "output_type": "stream",
          "name": "stdout",
          "text": [
            "vec의 타입 : <class 'numpy.ndarray'>\n",
            "mat의 타입 : <class 'numpy.ndarray'>\n"
          ]
        }
      ]
    },
    {
      "cell_type": "code",
      "source": [
        "print('vec의 축의 개수 :',vec.ndim) # 축의 개수 출력\n",
        "print('vec의 크기(shape) :',vec.shape) # 크기 출력"
      ],
      "metadata": {
        "colab": {
          "base_uri": "https://localhost:8080/"
        },
        "id": "yX46YFZJFtSL",
        "outputId": "3e90407c-fb01-49f5-8d15-ae4ce0087946"
      },
      "execution_count": null,
      "outputs": [
        {
          "output_type": "stream",
          "name": "stdout",
          "text": [
            "vec의 축의 개수 : 1\n",
            "vec의 크기(shape) : (5,)\n"
          ]
        }
      ]
    },
    {
      "cell_type": "code",
      "source": [
        "print('mat의 축의 개수 :',mat.ndim) # 축의 개수 출력\n",
        "print('mat의 크기(shape) :',mat.shape) # 크기 출력"
      ],
      "metadata": {
        "colab": {
          "base_uri": "https://localhost:8080/"
        },
        "id": "q2MtPv4I2U1u",
        "outputId": "231fd93e-b652-45d9-cb38-87e318488cb0"
      },
      "execution_count": null,
      "outputs": [
        {
          "output_type": "stream",
          "name": "stdout",
          "text": [
            "mat의 축의 개수 : 2\n",
            "mat의 크기(shape) : (2, 3)\n"
          ]
        }
      ]
    },
    {
      "cell_type": "code",
      "source": [
        "# 모든 값이 0인 2x3 배열 생성.\n",
        "zero_mat = np.zeros((2,3))\n",
        "print(zero_mat)"
      ],
      "metadata": {
        "colab": {
          "base_uri": "https://localhost:8080/"
        },
        "id": "qEIFuQwM2U4U",
        "outputId": "10eb75ce-a3ca-4ee9-e133-ef01f71d068c"
      },
      "execution_count": null,
      "outputs": [
        {
          "output_type": "stream",
          "name": "stdout",
          "text": [
            "[[0. 0. 0.]\n",
            " [0. 0. 0.]]\n"
          ]
        }
      ]
    },
    {
      "cell_type": "code",
      "source": [
        "# 모든 값이 1인 2x3 배열 생성.\n",
        "one_mat = np.ones((2,3))\n",
        "print(one_mat)"
      ],
      "metadata": {
        "colab": {
          "base_uri": "https://localhost:8080/"
        },
        "id": "_X-HRX_R2VAB",
        "outputId": "f32b7e34-3e91-4e89-f6fd-226b356f4030"
      },
      "execution_count": null,
      "outputs": [
        {
          "output_type": "stream",
          "name": "stdout",
          "text": [
            "[[1. 1. 1.]\n",
            " [1. 1. 1.]]\n"
          ]
        }
      ]
    },
    {
      "cell_type": "code",
      "source": [
        "# 모든 값이 특정 상수인 배열 생성. 이 경우 7.\n",
        "same_value_mat = np.full((2,2), 7)\n",
        "print(same_value_mat)"
      ],
      "metadata": {
        "colab": {
          "base_uri": "https://localhost:8080/"
        },
        "id": "SSbkCGF32VCg",
        "outputId": "ef017916-98b8-4829-fad3-c7b2e7e3b5cc"
      },
      "execution_count": null,
      "outputs": [
        {
          "output_type": "stream",
          "name": "stdout",
          "text": [
            "[[7 7]\n",
            " [7 7]]\n"
          ]
        }
      ]
    },
    {
      "cell_type": "code",
      "source": [
        "# 대각선 값이 1이고 나머지 값이 0인 2차원 배열을 생성.\n",
        "eye_mat = np.eye(3)\n",
        "print(eye_mat)"
      ],
      "metadata": {
        "colab": {
          "base_uri": "https://localhost:8080/"
        },
        "id": "XPAfv2YB2pCQ",
        "outputId": "7ab44408-e50f-4a6b-e823-85ab27601ea3"
      },
      "execution_count": null,
      "outputs": [
        {
          "output_type": "stream",
          "name": "stdout",
          "text": [
            "[[1. 0. 0.]\n",
            " [0. 1. 0.]\n",
            " [0. 0. 1.]]\n"
          ]
        }
      ]
    },
    {
      "cell_type": "code",
      "source": [
        "# 임의의 값으로 채워진 배열 생성\n",
        "random_mat = np.random.random((2,2)) # 임의의 값으로 채워진 배열 생성\n",
        "print(random_mat)"
      ],
      "metadata": {
        "colab": {
          "base_uri": "https://localhost:8080/"
        },
        "id": "jq7yzkRV2pEo",
        "outputId": "4cc56f9e-25b6-418c-adfa-9a80758b931a"
      },
      "execution_count": null,
      "outputs": [
        {
          "output_type": "stream",
          "name": "stdout",
          "text": [
            "[[0.22459045 0.40745937]\n",
            " [0.36351053 0.89857723]]\n"
          ]
        }
      ]
    },
    {
      "cell_type": "code",
      "source": [
        "# 0부터 9까지\n",
        "range_vec = np.arange(10)\n",
        "print(range_vec)"
      ],
      "metadata": {
        "colab": {
          "base_uri": "https://localhost:8080/"
        },
        "id": "K1eFnmT12vDN",
        "outputId": "53da96b2-cdfc-4b4d-bd6e-d4c066e093ae"
      },
      "execution_count": null,
      "outputs": [
        {
          "output_type": "stream",
          "name": "stdout",
          "text": [
            "[0 1 2 3 4 5 6 7 8 9]\n"
          ]
        }
      ]
    },
    {
      "cell_type": "code",
      "source": [
        "# 1부터 9까지 +2씩 적용되는 범위\n",
        "n = 2\n",
        "range_n_step_vec = np.arange(1, 10, n)\n",
        "print(range_n_step_vec)"
      ],
      "metadata": {
        "colab": {
          "base_uri": "https://localhost:8080/"
        },
        "id": "vFNXkk3N2vF9",
        "outputId": "65a375a8-9663-4ad2-fdee-d508b8e4ef4c"
      },
      "execution_count": null,
      "outputs": [
        {
          "output_type": "stream",
          "name": "stdout",
          "text": [
            "[1 3 5 7 9]\n"
          ]
        }
      ]
    },
    {
      "cell_type": "code",
      "source": [
        "reshape_mat = np.array(np.arange(30)).reshape((5,6))\n",
        "print(reshape_mat)"
      ],
      "metadata": {
        "colab": {
          "base_uri": "https://localhost:8080/"
        },
        "id": "g7g9EY_s2vIf",
        "outputId": "beca8b54-9d84-4080-9fb2-366ccc583cf8"
      },
      "execution_count": null,
      "outputs": [
        {
          "output_type": "stream",
          "name": "stdout",
          "text": [
            "[[ 0  1  2  3  4  5]\n",
            " [ 6  7  8  9 10 11]\n",
            " [12 13 14 15 16 17]\n",
            " [18 19 20 21 22 23]\n",
            " [24 25 26 27 28 29]]\n"
          ]
        }
      ]
    },
    {
      "cell_type": "code",
      "source": [
        "mat = np.array([[1, 2, 3], [4, 5, 6]])\n",
        "print(mat)"
      ],
      "metadata": {
        "colab": {
          "base_uri": "https://localhost:8080/"
        },
        "id": "oc1nXYn22vLO",
        "outputId": "48b78e79-5aff-45c2-847a-167fbedc453a"
      },
      "execution_count": null,
      "outputs": [
        {
          "output_type": "stream",
          "name": "stdout",
          "text": [
            "[[1 2 3]\n",
            " [4 5 6]]\n"
          ]
        }
      ]
    },
    {
      "cell_type": "code",
      "source": [
        "# 첫번째 행 출력\n",
        "slicing_mat = mat[0, :]\n",
        "print(slicing_mat)"
      ],
      "metadata": {
        "colab": {
          "base_uri": "https://localhost:8080/"
        },
        "id": "oBvbvv3O2vOo",
        "outputId": "cb487d6a-4a3f-4e31-85af-e7f25b35adc5"
      },
      "execution_count": null,
      "outputs": [
        {
          "output_type": "stream",
          "name": "stdout",
          "text": [
            "[1 2 3]\n"
          ]
        }
      ]
    },
    {
      "cell_type": "code",
      "source": [
        "# 두번째 열 출력\n",
        "slicing_mat = mat[:, 1]\n",
        "print(slicing_mat)"
      ],
      "metadata": {
        "colab": {
          "base_uri": "https://localhost:8080/"
        },
        "id": "3oxuNvhd2vR2",
        "outputId": "7b193dac-8a78-4033-fe55-b553d5600186"
      },
      "execution_count": null,
      "outputs": [
        {
          "output_type": "stream",
          "name": "stdout",
          "text": [
            "[2 5]\n"
          ]
        }
      ]
    },
    {
      "cell_type": "code",
      "source": [
        "mat = np.array([[1, 2], [4, 5], [7, 8]])\n",
        "print(mat)"
      ],
      "metadata": {
        "colab": {
          "base_uri": "https://localhost:8080/"
        },
        "id": "17H68KmA2vUb",
        "outputId": "78aa6d61-2091-42aa-c72d-df09dd9a2466"
      },
      "execution_count": null,
      "outputs": [
        {
          "output_type": "stream",
          "name": "stdout",
          "text": [
            "[[1 2]\n",
            " [4 5]\n",
            " [7 8]]\n"
          ]
        }
      ]
    },
    {
      "cell_type": "code",
      "source": [
        "# 1행 0열의 원소\n",
        "# => 0부터 카운트하므로 두번째 행 첫번째 열의 원소.\n",
        "print(mat[1, 0])"
      ],
      "metadata": {
        "colab": {
          "base_uri": "https://localhost:8080/"
        },
        "id": "ys9G-f8j2vZY",
        "outputId": "5ac89423-8b8e-44e1-a4ef-8d212fc8904a"
      },
      "execution_count": null,
      "outputs": [
        {
          "output_type": "stream",
          "name": "stdout",
          "text": [
            "4\n"
          ]
        }
      ]
    },
    {
      "cell_type": "code",
      "source": [
        "# mat[[2행, 1행],[0열, 1열]]\n",
        "# 각 행과 열의 쌍을 매칭하면 2행 0열, 1행 1열의 두 개의 원소.\n",
        "indexing_mat = mat[[2, 1],[0, 1]]\n",
        "print(indexing_mat)"
      ],
      "metadata": {
        "colab": {
          "base_uri": "https://localhost:8080/"
        },
        "id": "gLKq4K5Y229n",
        "outputId": "4267dc9d-def7-4f70-f342-4668ef7fcb24"
      },
      "execution_count": null,
      "outputs": [
        {
          "output_type": "stream",
          "name": "stdout",
          "text": [
            "[7 5]\n"
          ]
        }
      ]
    },
    {
      "cell_type": "code",
      "source": [
        "x = np.array([1,2,3])\n",
        "y = np.array([4,5,6])"
      ],
      "metadata": {
        "id": "Ni57DDVB23AN"
      },
      "execution_count": null,
      "outputs": []
    },
    {
      "cell_type": "code",
      "source": [
        "# result = np.add(x, y)와 동일.\n",
        "result = x + y\n",
        "print(result)"
      ],
      "metadata": {
        "colab": {
          "base_uri": "https://localhost:8080/"
        },
        "id": "Qgh1249V23E6",
        "outputId": "5fb16c83-7287-4375-89b4-736c98ae07a2"
      },
      "execution_count": null,
      "outputs": [
        {
          "output_type": "stream",
          "name": "stdout",
          "text": [
            "[5 7 9]\n"
          ]
        }
      ]
    },
    {
      "cell_type": "code",
      "source": [
        "# result = np.subtract(x, y)와 동일.\n",
        "result = x - y\n",
        "print(result)"
      ],
      "metadata": {
        "colab": {
          "base_uri": "https://localhost:8080/"
        },
        "id": "8fnXXpPE26H7",
        "outputId": "3156c921-cf90-4c75-905f-2b971a4c156f"
      },
      "execution_count": null,
      "outputs": [
        {
          "output_type": "stream",
          "name": "stdout",
          "text": [
            "[-3 -3 -3]\n"
          ]
        }
      ]
    },
    {
      "cell_type": "code",
      "source": [
        "# result = np.multiply(result, x)와 동일.\n",
        "result = result * x\n",
        "print(result)"
      ],
      "metadata": {
        "colab": {
          "base_uri": "https://localhost:8080/"
        },
        "id": "CK8qmnr626KW",
        "outputId": "a8318838-bf5d-4a55-d586-d0b322053bf7"
      },
      "execution_count": null,
      "outputs": [
        {
          "output_type": "stream",
          "name": "stdout",
          "text": [
            "[-3 -6 -9]\n"
          ]
        }
      ]
    },
    {
      "cell_type": "code",
      "source": [
        "# result = np.divide(result, x)와 동일.\n",
        "result = result / x\n",
        "print(result)"
      ],
      "metadata": {
        "colab": {
          "base_uri": "https://localhost:8080/"
        },
        "id": "_pW9vAn-26M8",
        "outputId": "6ffeb2e0-aa8d-4239-e142-b525f295f7c4"
      },
      "execution_count": null,
      "outputs": [
        {
          "output_type": "stream",
          "name": "stdout",
          "text": [
            "[-3. -3. -3.]\n"
          ]
        }
      ]
    },
    {
      "cell_type": "code",
      "source": [
        "mat1 = np.array([[1,2],[3,4]])\n",
        "mat2 = np.array([[5,6],[7,8]])\n",
        "mat3 = np.dot(mat1, mat2)\n",
        "print(mat3)"
      ],
      "metadata": {
        "colab": {
          "base_uri": "https://localhost:8080/"
        },
        "id": "0Y5ibBeH26O0",
        "outputId": "a983420a-d1d0-4985-c252-0ff9c2f4c56d"
      },
      "execution_count": null,
      "outputs": [
        {
          "output_type": "stream",
          "name": "stdout",
          "text": [
            "[[19 22]\n",
            " [43 50]]\n"
          ]
        }
      ]
    }
  ]
}