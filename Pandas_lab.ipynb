{
  "nbformat": 4,
  "nbformat_minor": 0,
  "metadata": {
    "colab": {
      "provenance": [],
      "authorship_tag": "ABX9TyO4RsaYs1aQvlWKcM/Ho/3/",
      "include_colab_link": true
    },
    "kernelspec": {
      "name": "python3",
      "display_name": "Python 3"
    },
    "language_info": {
      "name": "python"
    }
  },
  "cells": [
    {
      "cell_type": "markdown",
      "metadata": {
        "id": "view-in-github",
        "colab_type": "text"
      },
      "source": [
        "<a href=\"https://colab.research.google.com/github/taeyeon02/nlp_lab/blob/main/Pandas_lab.ipynb\" target=\"_parent\"><img src=\"https://colab.research.google.com/assets/colab-badge.svg\" alt=\"Open In Colab\"/></a>"
      ]
    },
    {
      "cell_type": "code",
      "execution_count": null,
      "metadata": {
        "id": "gfD9jucopPKf"
      },
      "outputs": [],
      "source": [
        "import pandas as pd"
      ]
    },
    {
      "cell_type": "code",
      "source": [
        "sr = pd.Series([17000, 18000, 1000, 5000],\n",
        "               index=[\"피자\", \"치킨\", \"콜라\", \"맥주\"])\n",
        "print('시리즈 출력 :')\n",
        "print('-'*15)\n",
        "print(sr)"
      ],
      "metadata": {
        "colab": {
          "base_uri": "https://localhost:8080/"
        },
        "id": "q-3xK3sppWiC",
        "outputId": "e645f9ac-6969-40bb-83ff-fb78ca2cf6e2"
      },
      "execution_count": null,
      "outputs": [
        {
          "output_type": "stream",
          "name": "stdout",
          "text": [
            "시리즈 출력 :\n",
            "---------------\n",
            "피자    17000\n",
            "치킨    18000\n",
            "콜라     1000\n",
            "맥주     5000\n",
            "dtype: int64\n"
          ]
        }
      ]
    },
    {
      "cell_type": "code",
      "source": [
        "values = [[1, 2, 3], [4, 5, 6], [7, 8, 9]]\n",
        "index = ['one', 'two', 'three']\n",
        "columns = ['A', 'B', 'C']\n",
        "\n",
        "df = pd.DataFrame(values, index=index, columns=columns)\n",
        "\n",
        "print('데이터프레임 출력 :')\n",
        "print('-'*18)\n",
        "print(df)"
      ],
      "metadata": {
        "colab": {
          "base_uri": "https://localhost:8080/"
        },
        "id": "RUvUvnhepa6Z",
        "outputId": "55d81a87-6413-4e5e-ad10-41b3f3c3d506"
      },
      "execution_count": null,
      "outputs": [
        {
          "output_type": "stream",
          "name": "stdout",
          "text": [
            "데이터프레임 출력 :\n",
            "------------------\n",
            "       A  B  C\n",
            "one    1  2  3\n",
            "two    4  5  6\n",
            "three  7  8  9\n"
          ]
        }
      ]
    },
    {
      "cell_type": "code",
      "source": [
        "print('데이터프레임의 인덱스 : {}'.format(df.index))\n",
        "print('데이터프레임의 열이름: {}'.format(df.columns))\n",
        "print('데이터프레임의 값 :')\n",
        "print('-'*18)\n",
        "print(df.values)"
      ],
      "metadata": {
        "colab": {
          "base_uri": "https://localhost:8080/"
        },
        "id": "sHNkwhbVplH8",
        "outputId": "33c4e081-2713-4bd3-9e4b-95ef0a4ae75f"
      },
      "execution_count": null,
      "outputs": [
        {
          "output_type": "stream",
          "name": "stdout",
          "text": [
            "데이터프레임의 인덱스 : Index(['one', 'two', 'three'], dtype='object')\n",
            "데이터프레임의 열이름: Index(['A', 'B', 'C'], dtype='object')\n",
            "데이터프레임의 값 :\n",
            "------------------\n",
            "[[1 2 3]\n",
            " [4 5 6]\n",
            " [7 8 9]]\n"
          ]
        }
      ]
    },
    {
      "cell_type": "code",
      "source": [
        "# 리스트로 생성하기\n",
        "data = [\n",
        "    ['1000', 'Steve', 90.72], \n",
        "    ['1001', 'James', 78.09], \n",
        "    ['1002', 'Doyeon', 98.43], \n",
        "    ['1003', 'Jane', 64.19], \n",
        "    ['1004', 'Pilwoong', 81.30],\n",
        "    ['1005', 'Tony', 99.14],\n",
        "]\n",
        "\n",
        "df = pd.DataFrame(data)\n",
        "print(df)"
      ],
      "metadata": {
        "colab": {
          "base_uri": "https://localhost:8080/"
        },
        "id": "LTQ9D2JOpnWG",
        "outputId": "81564025-f661-49a8-9c18-ebab9da53426"
      },
      "execution_count": null,
      "outputs": [
        {
          "output_type": "stream",
          "name": "stdout",
          "text": [
            "      0         1      2\n",
            "0  1000     Steve  90.72\n",
            "1  1001     James  78.09\n",
            "2  1002    Doyeon  98.43\n",
            "3  1003      Jane  64.19\n",
            "4  1004  Pilwoong  81.30\n",
            "5  1005      Tony  99.14\n"
          ]
        }
      ]
    },
    {
      "cell_type": "code",
      "source": [
        "df = pd.DataFrame(data, columns=['학번', '이름', '점수'])\n",
        "print(df)"
      ],
      "metadata": {
        "colab": {
          "base_uri": "https://localhost:8080/"
        },
        "id": "pLFkJ2Y6ppQG",
        "outputId": "a03b6a33-646d-47ad-9e12-6afe66c753b1"
      },
      "execution_count": null,
      "outputs": [
        {
          "output_type": "stream",
          "name": "stdout",
          "text": [
            "     학번        이름     점수\n",
            "0  1000     Steve  90.72\n",
            "1  1001     James  78.09\n",
            "2  1002    Doyeon  98.43\n",
            "3  1003      Jane  64.19\n",
            "4  1004  Pilwoong  81.30\n",
            "5  1005      Tony  99.14\n"
          ]
        }
      ]
    },
    {
      "cell_type": "code",
      "source": [
        "# 딕셔너리로 생성하기\n",
        "data = {\n",
        "    '학번' : ['1000', '1001', '1002', '1003', '1004', '1005'],\n",
        "    '이름' : [ 'Steve', 'James', 'Doyeon', 'Jane', 'Pilwoong', 'Tony'],\n",
        "    '점수': [90.72, 78.09, 98.43, 64.19, 81.30, 99.14]\n",
        "    }\n",
        "\n",
        "df = pd.DataFrame(data)\n",
        "print(df)"
      ],
      "metadata": {
        "colab": {
          "base_uri": "https://localhost:8080/"
        },
        "id": "HvDRUMHYprkp",
        "outputId": "3fee776f-fc37-43e4-93e4-1d4221dca9f8"
      },
      "execution_count": null,
      "outputs": [
        {
          "output_type": "stream",
          "name": "stdout",
          "text": [
            "     학번        이름     점수\n",
            "0  1000     Steve  90.72\n",
            "1  1001     James  78.09\n",
            "2  1002    Doyeon  98.43\n",
            "3  1003      Jane  64.19\n",
            "4  1004  Pilwoong  81.30\n",
            "5  1005      Tony  99.14\n"
          ]
        }
      ]
    },
    {
      "cell_type": "code",
      "source": [
        "# 앞 부분을 3개만 보기\n",
        "print(df.head(3))"
      ],
      "metadata": {
        "colab": {
          "base_uri": "https://localhost:8080/"
        },
        "id": "OoJaz6dhpugi",
        "outputId": "4a6b17d8-4ef1-442c-f6b1-d5d0ec0d01f2"
      },
      "execution_count": null,
      "outputs": [
        {
          "output_type": "stream",
          "name": "stdout",
          "text": [
            "     학번      이름     점수\n",
            "0  1000   Steve  90.72\n",
            "1  1001   James  78.09\n",
            "2  1002  Doyeon  98.43\n"
          ]
        }
      ]
    },
    {
      "cell_type": "code",
      "source": [
        "# 뒷 부분을 3개만 보기\n",
        "print(df.tail(3))"
      ],
      "metadata": {
        "colab": {
          "base_uri": "https://localhost:8080/"
        },
        "id": "btir6W48pwJP",
        "outputId": "ade17225-d4e9-4df8-8b78-9926bb36c897"
      },
      "execution_count": null,
      "outputs": [
        {
          "output_type": "stream",
          "name": "stdout",
          "text": [
            "     학번        이름     점수\n",
            "3  1003      Jane  64.19\n",
            "4  1004  Pilwoong  81.30\n",
            "5  1005      Tony  99.14\n"
          ]
        }
      ]
    },
    {
      "cell_type": "code",
      "source": [
        "# '학번'에 해당되는 열을 보기\n",
        "print(df['학번'])"
      ],
      "metadata": {
        "colab": {
          "base_uri": "https://localhost:8080/"
        },
        "id": "U9uF4sYtpy3R",
        "outputId": "b48ced08-1b23-4aaf-b9ad-948e77b948b8"
      },
      "execution_count": null,
      "outputs": [
        {
          "output_type": "stream",
          "name": "stdout",
          "text": [
            "0    1000\n",
            "1    1001\n",
            "2    1002\n",
            "3    1003\n",
            "4    1004\n",
            "5    1005\n",
            "Name: 학번, dtype: object\n"
          ]
        }
      ]
    },
    {
      "cell_type": "code",
      "source": [
        "df = pd.read_csv(\"/content/sample_data/california_housing_test.csv\")\n",
        "print(df)"
      ],
      "metadata": {
        "colab": {
          "base_uri": "https://localhost:8080/"
        },
        "id": "CR1TbYfQqEcd",
        "outputId": "3e90d3ce-9e67-4ae1-afb0-6fb8466999f8"
      },
      "execution_count": null,
      "outputs": [
        {
          "output_type": "stream",
          "name": "stdout",
          "text": [
            "      longitude  latitude  housing_median_age  total_rooms  total_bedrooms  \\\n",
            "0       -122.05     37.37                27.0       3885.0           661.0   \n",
            "1       -118.30     34.26                43.0       1510.0           310.0   \n",
            "2       -117.81     33.78                27.0       3589.0           507.0   \n",
            "3       -118.36     33.82                28.0         67.0            15.0   \n",
            "4       -119.67     36.33                19.0       1241.0           244.0   \n",
            "...         ...       ...                 ...          ...             ...   \n",
            "2995    -119.86     34.42                23.0       1450.0           642.0   \n",
            "2996    -118.14     34.06                27.0       5257.0          1082.0   \n",
            "2997    -119.70     36.30                10.0        956.0           201.0   \n",
            "2998    -117.12     34.10                40.0         96.0            14.0   \n",
            "2999    -119.63     34.42                42.0       1765.0           263.0   \n",
            "\n",
            "      population  households  median_income  median_house_value  \n",
            "0         1537.0       606.0         6.6085            344700.0  \n",
            "1          809.0       277.0         3.5990            176500.0  \n",
            "2         1484.0       495.0         5.7934            270500.0  \n",
            "3           49.0        11.0         6.1359            330000.0  \n",
            "4          850.0       237.0         2.9375             81700.0  \n",
            "...          ...         ...            ...                 ...  \n",
            "2995      1258.0       607.0         1.1790            225000.0  \n",
            "2996      3496.0      1036.0         3.3906            237200.0  \n",
            "2997       693.0       220.0         2.2895             62000.0  \n",
            "2998        46.0        14.0         3.2708            162500.0  \n",
            "2999       753.0       260.0         8.5608            500001.0  \n",
            "\n",
            "[3000 rows x 9 columns]\n"
          ]
        }
      ]
    },
    {
      "cell_type": "code",
      "source": [
        "print(df.index)"
      ],
      "metadata": {
        "colab": {
          "base_uri": "https://localhost:8080/"
        },
        "id": "9vyGu-3YrJ1J",
        "outputId": "e77a6df4-476e-4497-9b05-5ece4924a246"
      },
      "execution_count": null,
      "outputs": [
        {
          "output_type": "stream",
          "name": "stdout",
          "text": [
            "RangeIndex(start=0, stop=3000, step=1)\n"
          ]
        }
      ]
    }
  ]
}